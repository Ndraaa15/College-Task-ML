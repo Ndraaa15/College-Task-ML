{
 "cells": [
  {
   "cell_type": "markdown",
   "metadata": {},
   "source": [
    "# UTP PPM 2024\n",
    "---------------\n",
    "# KNN"
   ]
  },
  {
   "cell_type": "markdown",
   "metadata": {},
   "source": [
    "Tuliskan Nama, NIM, dan kelas Anda:\n",
    "\n",
    "Nama  : Gede Indra Adi Brata\n",
    "\n",
    "NIM   : 225150200111006\n",
    "\n",
    "Kelas : PPM F"
   ]
  },
  {
   "cell_type": "markdown",
   "metadata": {},
   "source": [
    "# Import Dependencies"
   ]
  },
  {
   "cell_type": "code",
   "execution_count": 176,
   "metadata": {},
   "outputs": [],
   "source": [
    "import numpy as np\n",
    "import pandas as pd\n",
    "import seaborn as sns\n",
    "from collections import Counter\n",
    "import matplotlib.pyplot as plt\n",
    "from sklearn.metrics import accuracy_score\n",
    "from sklearn.model_selection import train_test_split"
   ]
  },
  {
   "cell_type": "markdown",
   "metadata": {},
   "source": [
    "# Dataset"
   ]
  },
  {
   "cell_type": "markdown",
   "metadata": {},
   "source": [
    "Dataset: https://www.kaggle.com/datasets/uciml/red-wine-quality-cortez-et-al-2009/data\n",
    "\n",
    "Link alternatif: https://drive.google.com/file/d/1Fg-FAxEP4XtlJJeyj_ktExBhFV0ulIQV/view"
   ]
  },
  {
   "cell_type": "code",
   "execution_count": 177,
   "metadata": {},
   "outputs": [
    {
     "name": "stderr",
     "output_type": "stream",
     "text": [
      "'wget' is not recognized as an internal or external command,\n",
      "operable program or batch file.\n",
      "'id' is not recognized as an internal or external command,\n",
      "operable program or batch file.\n"
     ]
    }
   ],
   "source": [
    "!wget --no-check-certificate 'https://docs.google.com/uc?export=download&id=1Fg-FAxEP4XtlJJeyj_ktExBhFV0ulIQV' -O winequality-red.csv"
   ]
  },
  {
   "cell_type": "code",
   "execution_count": 178,
   "metadata": {},
   "outputs": [
    {
     "data": {
      "text/html": [
       "<div>\n",
       "<style scoped>\n",
       "    .dataframe tbody tr th:only-of-type {\n",
       "        vertical-align: middle;\n",
       "    }\n",
       "\n",
       "    .dataframe tbody tr th {\n",
       "        vertical-align: top;\n",
       "    }\n",
       "\n",
       "    .dataframe thead th {\n",
       "        text-align: right;\n",
       "    }\n",
       "</style>\n",
       "<table border=\"1\" class=\"dataframe\">\n",
       "  <thead>\n",
       "    <tr style=\"text-align: right;\">\n",
       "      <th></th>\n",
       "      <th>fixed acidity</th>\n",
       "      <th>volatile acidity</th>\n",
       "      <th>citric acid</th>\n",
       "      <th>residual sugar</th>\n",
       "      <th>chlorides</th>\n",
       "      <th>free sulfur dioxide</th>\n",
       "      <th>total sulfur dioxide</th>\n",
       "      <th>density</th>\n",
       "      <th>pH</th>\n",
       "      <th>sulphates</th>\n",
       "      <th>alcohol</th>\n",
       "      <th>quality</th>\n",
       "    </tr>\n",
       "  </thead>\n",
       "  <tbody>\n",
       "    <tr>\n",
       "      <th>0</th>\n",
       "      <td>7.4</td>\n",
       "      <td>0.70</td>\n",
       "      <td>0.00</td>\n",
       "      <td>1.9</td>\n",
       "      <td>0.076</td>\n",
       "      <td>11.0</td>\n",
       "      <td>34.0</td>\n",
       "      <td>0.9978</td>\n",
       "      <td>3.51</td>\n",
       "      <td>0.56</td>\n",
       "      <td>9.4</td>\n",
       "      <td>5</td>\n",
       "    </tr>\n",
       "    <tr>\n",
       "      <th>1</th>\n",
       "      <td>7.8</td>\n",
       "      <td>0.88</td>\n",
       "      <td>0.00</td>\n",
       "      <td>2.6</td>\n",
       "      <td>0.098</td>\n",
       "      <td>25.0</td>\n",
       "      <td>67.0</td>\n",
       "      <td>0.9968</td>\n",
       "      <td>3.20</td>\n",
       "      <td>0.68</td>\n",
       "      <td>9.8</td>\n",
       "      <td>5</td>\n",
       "    </tr>\n",
       "    <tr>\n",
       "      <th>2</th>\n",
       "      <td>7.8</td>\n",
       "      <td>0.76</td>\n",
       "      <td>0.04</td>\n",
       "      <td>2.3</td>\n",
       "      <td>0.092</td>\n",
       "      <td>15.0</td>\n",
       "      <td>54.0</td>\n",
       "      <td>0.9970</td>\n",
       "      <td>3.26</td>\n",
       "      <td>0.65</td>\n",
       "      <td>9.8</td>\n",
       "      <td>5</td>\n",
       "    </tr>\n",
       "    <tr>\n",
       "      <th>3</th>\n",
       "      <td>11.2</td>\n",
       "      <td>0.28</td>\n",
       "      <td>0.56</td>\n",
       "      <td>1.9</td>\n",
       "      <td>0.075</td>\n",
       "      <td>17.0</td>\n",
       "      <td>60.0</td>\n",
       "      <td>0.9980</td>\n",
       "      <td>3.16</td>\n",
       "      <td>0.58</td>\n",
       "      <td>9.8</td>\n",
       "      <td>6</td>\n",
       "    </tr>\n",
       "    <tr>\n",
       "      <th>4</th>\n",
       "      <td>7.4</td>\n",
       "      <td>0.70</td>\n",
       "      <td>0.00</td>\n",
       "      <td>1.9</td>\n",
       "      <td>0.076</td>\n",
       "      <td>11.0</td>\n",
       "      <td>34.0</td>\n",
       "      <td>0.9978</td>\n",
       "      <td>3.51</td>\n",
       "      <td>0.56</td>\n",
       "      <td>9.4</td>\n",
       "      <td>5</td>\n",
       "    </tr>\n",
       "  </tbody>\n",
       "</table>\n",
       "</div>"
      ],
      "text/plain": [
       "   fixed acidity  volatile acidity  citric acid  residual sugar  chlorides  \\\n",
       "0            7.4              0.70         0.00             1.9      0.076   \n",
       "1            7.8              0.88         0.00             2.6      0.098   \n",
       "2            7.8              0.76         0.04             2.3      0.092   \n",
       "3           11.2              0.28         0.56             1.9      0.075   \n",
       "4            7.4              0.70         0.00             1.9      0.076   \n",
       "\n",
       "   free sulfur dioxide  total sulfur dioxide  density    pH  sulphates  \\\n",
       "0                 11.0                  34.0   0.9978  3.51       0.56   \n",
       "1                 25.0                  67.0   0.9968  3.20       0.68   \n",
       "2                 15.0                  54.0   0.9970  3.26       0.65   \n",
       "3                 17.0                  60.0   0.9980  3.16       0.58   \n",
       "4                 11.0                  34.0   0.9978  3.51       0.56   \n",
       "\n",
       "   alcohol  quality  \n",
       "0      9.4        5  \n",
       "1      9.8        5  \n",
       "2      9.8        5  \n",
       "3      9.8        6  \n",
       "4      9.4        5  "
      ]
     },
     "execution_count": 178,
     "metadata": {},
     "output_type": "execute_result"
    }
   ],
   "source": [
    "data = pd.read_csv('Indra Brata - winequality-red.csv')\n",
    "data.head(5)"
   ]
  },
  {
   "cell_type": "code",
   "execution_count": 179,
   "metadata": {},
   "outputs": [
    {
     "name": "stdout",
     "output_type": "stream",
     "text": [
      "<class 'pandas.core.frame.DataFrame'>\n",
      "RangeIndex: 1599 entries, 0 to 1598\n",
      "Data columns (total 12 columns):\n",
      " #   Column                Non-Null Count  Dtype  \n",
      "---  ------                --------------  -----  \n",
      " 0   fixed acidity         1599 non-null   float64\n",
      " 1   volatile acidity      1599 non-null   float64\n",
      " 2   citric acid           1599 non-null   float64\n",
      " 3   residual sugar        1599 non-null   float64\n",
      " 4   chlorides             1599 non-null   float64\n",
      " 5   free sulfur dioxide   1599 non-null   float64\n",
      " 6   total sulfur dioxide  1599 non-null   float64\n",
      " 7   density               1599 non-null   float64\n",
      " 8   pH                    1599 non-null   float64\n",
      " 9   sulphates             1599 non-null   float64\n",
      " 10  alcohol               1599 non-null   float64\n",
      " 11  quality               1599 non-null   int64  \n",
      "dtypes: float64(11), int64(1)\n",
      "memory usage: 150.0 KB\n"
     ]
    },
    {
     "data": {
      "text/html": [
       "<div>\n",
       "<style scoped>\n",
       "    .dataframe tbody tr th:only-of-type {\n",
       "        vertical-align: middle;\n",
       "    }\n",
       "\n",
       "    .dataframe tbody tr th {\n",
       "        vertical-align: top;\n",
       "    }\n",
       "\n",
       "    .dataframe thead th {\n",
       "        text-align: right;\n",
       "    }\n",
       "</style>\n",
       "<table border=\"1\" class=\"dataframe\">\n",
       "  <thead>\n",
       "    <tr style=\"text-align: right;\">\n",
       "      <th></th>\n",
       "      <th>fixed acidity</th>\n",
       "      <th>volatile acidity</th>\n",
       "      <th>citric acid</th>\n",
       "      <th>residual sugar</th>\n",
       "      <th>chlorides</th>\n",
       "      <th>free sulfur dioxide</th>\n",
       "      <th>total sulfur dioxide</th>\n",
       "      <th>density</th>\n",
       "      <th>pH</th>\n",
       "      <th>sulphates</th>\n",
       "      <th>alcohol</th>\n",
       "      <th>quality</th>\n",
       "    </tr>\n",
       "  </thead>\n",
       "  <tbody>\n",
       "    <tr>\n",
       "      <th>count</th>\n",
       "      <td>1599.000000</td>\n",
       "      <td>1599.000000</td>\n",
       "      <td>1599.000000</td>\n",
       "      <td>1599.000000</td>\n",
       "      <td>1599.000000</td>\n",
       "      <td>1599.000000</td>\n",
       "      <td>1599.000000</td>\n",
       "      <td>1599.000000</td>\n",
       "      <td>1599.000000</td>\n",
       "      <td>1599.000000</td>\n",
       "      <td>1599.000000</td>\n",
       "      <td>1599.000000</td>\n",
       "    </tr>\n",
       "    <tr>\n",
       "      <th>mean</th>\n",
       "      <td>8.319637</td>\n",
       "      <td>0.527821</td>\n",
       "      <td>0.270976</td>\n",
       "      <td>2.538806</td>\n",
       "      <td>0.087467</td>\n",
       "      <td>15.874922</td>\n",
       "      <td>46.467792</td>\n",
       "      <td>0.996747</td>\n",
       "      <td>3.311113</td>\n",
       "      <td>0.658149</td>\n",
       "      <td>10.422983</td>\n",
       "      <td>5.636023</td>\n",
       "    </tr>\n",
       "    <tr>\n",
       "      <th>std</th>\n",
       "      <td>1.741096</td>\n",
       "      <td>0.179060</td>\n",
       "      <td>0.194801</td>\n",
       "      <td>1.409928</td>\n",
       "      <td>0.047065</td>\n",
       "      <td>10.460157</td>\n",
       "      <td>32.895324</td>\n",
       "      <td>0.001887</td>\n",
       "      <td>0.154386</td>\n",
       "      <td>0.169507</td>\n",
       "      <td>1.065668</td>\n",
       "      <td>0.807569</td>\n",
       "    </tr>\n",
       "    <tr>\n",
       "      <th>min</th>\n",
       "      <td>4.600000</td>\n",
       "      <td>0.120000</td>\n",
       "      <td>0.000000</td>\n",
       "      <td>0.900000</td>\n",
       "      <td>0.012000</td>\n",
       "      <td>1.000000</td>\n",
       "      <td>6.000000</td>\n",
       "      <td>0.990070</td>\n",
       "      <td>2.740000</td>\n",
       "      <td>0.330000</td>\n",
       "      <td>8.400000</td>\n",
       "      <td>3.000000</td>\n",
       "    </tr>\n",
       "    <tr>\n",
       "      <th>25%</th>\n",
       "      <td>7.100000</td>\n",
       "      <td>0.390000</td>\n",
       "      <td>0.090000</td>\n",
       "      <td>1.900000</td>\n",
       "      <td>0.070000</td>\n",
       "      <td>7.000000</td>\n",
       "      <td>22.000000</td>\n",
       "      <td>0.995600</td>\n",
       "      <td>3.210000</td>\n",
       "      <td>0.550000</td>\n",
       "      <td>9.500000</td>\n",
       "      <td>5.000000</td>\n",
       "    </tr>\n",
       "    <tr>\n",
       "      <th>50%</th>\n",
       "      <td>7.900000</td>\n",
       "      <td>0.520000</td>\n",
       "      <td>0.260000</td>\n",
       "      <td>2.200000</td>\n",
       "      <td>0.079000</td>\n",
       "      <td>14.000000</td>\n",
       "      <td>38.000000</td>\n",
       "      <td>0.996750</td>\n",
       "      <td>3.310000</td>\n",
       "      <td>0.620000</td>\n",
       "      <td>10.200000</td>\n",
       "      <td>6.000000</td>\n",
       "    </tr>\n",
       "    <tr>\n",
       "      <th>75%</th>\n",
       "      <td>9.200000</td>\n",
       "      <td>0.640000</td>\n",
       "      <td>0.420000</td>\n",
       "      <td>2.600000</td>\n",
       "      <td>0.090000</td>\n",
       "      <td>21.000000</td>\n",
       "      <td>62.000000</td>\n",
       "      <td>0.997835</td>\n",
       "      <td>3.400000</td>\n",
       "      <td>0.730000</td>\n",
       "      <td>11.100000</td>\n",
       "      <td>6.000000</td>\n",
       "    </tr>\n",
       "    <tr>\n",
       "      <th>max</th>\n",
       "      <td>15.900000</td>\n",
       "      <td>1.580000</td>\n",
       "      <td>1.000000</td>\n",
       "      <td>15.500000</td>\n",
       "      <td>0.611000</td>\n",
       "      <td>72.000000</td>\n",
       "      <td>289.000000</td>\n",
       "      <td>1.003690</td>\n",
       "      <td>4.010000</td>\n",
       "      <td>2.000000</td>\n",
       "      <td>14.900000</td>\n",
       "      <td>8.000000</td>\n",
       "    </tr>\n",
       "  </tbody>\n",
       "</table>\n",
       "</div>"
      ],
      "text/plain": [
       "       fixed acidity  volatile acidity  citric acid  residual sugar  \\\n",
       "count    1599.000000       1599.000000  1599.000000     1599.000000   \n",
       "mean        8.319637          0.527821     0.270976        2.538806   \n",
       "std         1.741096          0.179060     0.194801        1.409928   \n",
       "min         4.600000          0.120000     0.000000        0.900000   \n",
       "25%         7.100000          0.390000     0.090000        1.900000   \n",
       "50%         7.900000          0.520000     0.260000        2.200000   \n",
       "75%         9.200000          0.640000     0.420000        2.600000   \n",
       "max        15.900000          1.580000     1.000000       15.500000   \n",
       "\n",
       "         chlorides  free sulfur dioxide  total sulfur dioxide      density  \\\n",
       "count  1599.000000          1599.000000           1599.000000  1599.000000   \n",
       "mean      0.087467            15.874922             46.467792     0.996747   \n",
       "std       0.047065            10.460157             32.895324     0.001887   \n",
       "min       0.012000             1.000000              6.000000     0.990070   \n",
       "25%       0.070000             7.000000             22.000000     0.995600   \n",
       "50%       0.079000            14.000000             38.000000     0.996750   \n",
       "75%       0.090000            21.000000             62.000000     0.997835   \n",
       "max       0.611000            72.000000            289.000000     1.003690   \n",
       "\n",
       "                pH    sulphates      alcohol      quality  \n",
       "count  1599.000000  1599.000000  1599.000000  1599.000000  \n",
       "mean      3.311113     0.658149    10.422983     5.636023  \n",
       "std       0.154386     0.169507     1.065668     0.807569  \n",
       "min       2.740000     0.330000     8.400000     3.000000  \n",
       "25%       3.210000     0.550000     9.500000     5.000000  \n",
       "50%       3.310000     0.620000    10.200000     6.000000  \n",
       "75%       3.400000     0.730000    11.100000     6.000000  \n",
       "max       4.010000     2.000000    14.900000     8.000000  "
      ]
     },
     "execution_count": 179,
     "metadata": {},
     "output_type": "execute_result"
    }
   ],
   "source": [
    "# Data information and check for missing values\n",
    "data.info()\n",
    "data.describe()"
   ]
  },
  {
   "cell_type": "markdown",
   "metadata": {},
   "source": [
    "Tidak ada nilai yang hilang dalam dataset, sehingga tidak perlu dilakukan imputasi atau metode penanganan nilai yang hilang lainnya."
   ]
  },
  {
   "cell_type": "markdown",
   "metadata": {},
   "source": [
    "# Pre-proses Data"
   ]
  },
  {
   "cell_type": "markdown",
   "metadata": {},
   "source": [
    "Lakukan reduksi data melalui downsampling untuk memperpendek proses pelatihan dan pengujian model."
   ]
  },
  {
   "cell_type": "code",
   "execution_count": 180,
   "metadata": {},
   "outputs": [],
   "source": [
    "# Reduce the number data\n",
    "def random_sampling(df, sample_size):\n",
    "    return df.sample(n=sample_size, random_state=0)\n",
    "reduced_data = random_sampling(data, 500)"
   ]
  },
  {
   "cell_type": "markdown",
   "metadata": {},
   "source": [
    "Lakukan normalisasi data kecuali kolom quality sebagai kolom label dengan menggunakan z-score."
   ]
  },
  {
   "cell_type": "code",
   "execution_count": 181,
   "metadata": {},
   "outputs": [
    {
     "data": {
      "text/html": [
       "<div>\n",
       "<style scoped>\n",
       "    .dataframe tbody tr th:only-of-type {\n",
       "        vertical-align: middle;\n",
       "    }\n",
       "\n",
       "    .dataframe tbody tr th {\n",
       "        vertical-align: top;\n",
       "    }\n",
       "\n",
       "    .dataframe thead th {\n",
       "        text-align: right;\n",
       "    }\n",
       "</style>\n",
       "<table border=\"1\" class=\"dataframe\">\n",
       "  <thead>\n",
       "    <tr style=\"text-align: right;\">\n",
       "      <th></th>\n",
       "      <th>fixed acidity</th>\n",
       "      <th>volatile acidity</th>\n",
       "      <th>citric acid</th>\n",
       "      <th>residual sugar</th>\n",
       "      <th>chlorides</th>\n",
       "      <th>free sulfur dioxide</th>\n",
       "      <th>total sulfur dioxide</th>\n",
       "      <th>density</th>\n",
       "      <th>pH</th>\n",
       "      <th>sulphates</th>\n",
       "      <th>alcohol</th>\n",
       "      <th>quality</th>\n",
       "    </tr>\n",
       "  </thead>\n",
       "  <tbody>\n",
       "    <tr>\n",
       "      <th>1109</th>\n",
       "      <td>1.478894</td>\n",
       "      <td>-0.316620</td>\n",
       "      <td>0.839736</td>\n",
       "      <td>-0.342617</td>\n",
       "      <td>2.080887</td>\n",
       "      <td>1.247433</td>\n",
       "      <td>0.721623</td>\n",
       "      <td>0.787516</td>\n",
       "      <td>-0.949976</td>\n",
       "      <td>0.669567</td>\n",
       "      <td>0.326500</td>\n",
       "      <td>6</td>\n",
       "    </tr>\n",
       "    <tr>\n",
       "      <th>1032</th>\n",
       "      <td>-0.090687</td>\n",
       "      <td>1.829335</td>\n",
       "      <td>-1.382061</td>\n",
       "      <td>1.340176</td>\n",
       "      <td>0.200821</td>\n",
       "      <td>-1.034963</td>\n",
       "      <td>-1.029072</td>\n",
       "      <td>0.968922</td>\n",
       "      <td>0.280060</td>\n",
       "      <td>-0.797104</td>\n",
       "      <td>-0.799686</td>\n",
       "      <td>5</td>\n",
       "    </tr>\n",
       "    <tr>\n",
       "      <th>1002</th>\n",
       "      <td>0.490639</td>\n",
       "      <td>-1.420254</td>\n",
       "      <td>0.323039</td>\n",
       "      <td>-0.384686</td>\n",
       "      <td>-0.590786</td>\n",
       "      <td>-0.205001</td>\n",
       "      <td>-0.591398</td>\n",
       "      <td>-0.834468</td>\n",
       "      <td>-0.367327</td>\n",
       "      <td>1.179714</td>\n",
       "      <td>1.171140</td>\n",
       "      <td>7</td>\n",
       "    </tr>\n",
       "    <tr>\n",
       "      <th>487</th>\n",
       "      <td>1.130098</td>\n",
       "      <td>0.756357</td>\n",
       "      <td>0.478048</td>\n",
       "      <td>-0.595036</td>\n",
       "      <td>-0.838163</td>\n",
       "      <td>-1.034963</td>\n",
       "      <td>-1.029072</td>\n",
       "      <td>0.787516</td>\n",
       "      <td>-0.949976</td>\n",
       "      <td>-1.498556</td>\n",
       "      <td>-0.424291</td>\n",
       "      <td>6</td>\n",
       "    </tr>\n",
       "    <tr>\n",
       "      <th>979</th>\n",
       "      <td>2.292751</td>\n",
       "      <td>-0.439246</td>\n",
       "      <td>1.149754</td>\n",
       "      <td>-0.931594</td>\n",
       "      <td>-0.293934</td>\n",
       "      <td>-1.242453</td>\n",
       "      <td>-1.298410</td>\n",
       "      <td>0.093904</td>\n",
       "      <td>-1.208930</td>\n",
       "      <td>-0.159421</td>\n",
       "      <td>-0.048895</td>\n",
       "      <td>5</td>\n",
       "    </tr>\n",
       "  </tbody>\n",
       "</table>\n",
       "</div>"
      ],
      "text/plain": [
       "      fixed acidity  volatile acidity  citric acid  residual sugar  chlorides  \\\n",
       "1109       1.478894         -0.316620     0.839736       -0.342617   2.080887   \n",
       "1032      -0.090687          1.829335    -1.382061        1.340176   0.200821   \n",
       "1002       0.490639         -1.420254     0.323039       -0.384686  -0.590786   \n",
       "487        1.130098          0.756357     0.478048       -0.595036  -0.838163   \n",
       "979        2.292751         -0.439246     1.149754       -0.931594  -0.293934   \n",
       "\n",
       "      free sulfur dioxide  total sulfur dioxide   density        pH  \\\n",
       "1109             1.247433              0.721623  0.787516 -0.949976   \n",
       "1032            -1.034963             -1.029072  0.968922  0.280060   \n",
       "1002            -0.205001             -0.591398 -0.834468 -0.367327   \n",
       "487             -1.034963             -1.029072  0.787516 -0.949976   \n",
       "979             -1.242453             -1.298410  0.093904 -1.208930   \n",
       "\n",
       "      sulphates   alcohol  quality  \n",
       "1109   0.669567  0.326500        6  \n",
       "1032  -0.797104 -0.799686        5  \n",
       "1002   1.179714  1.171140        7  \n",
       "487   -1.498556 -0.424291        6  \n",
       "979   -0.159421 -0.048895        5  "
      ]
     },
     "execution_count": 181,
     "metadata": {},
     "output_type": "execute_result"
    }
   ],
   "source": [
    "# Z-score normalization except for the quality column\n",
    "def z_score(data):\n",
    "\n",
    "    columns_to_normalize = data.columns[:-1]\n",
    "\n",
    "    normalized_data = data.copy()\n",
    "    normalized_data[columns_to_normalize] = (data[columns_to_normalize] - data[columns_to_normalize].mean()) / data[columns_to_normalize].std()\n",
    "    return normalized_data\n",
    "\n",
    "normalized_data = z_score(reduced_data)\n",
    "normalized_data.head(5)"
   ]
  },
  {
   "cell_type": "markdown",
   "metadata": {},
   "source": [
    "# Model"
   ]
  },
  {
   "cell_type": "markdown",
   "metadata": {},
   "source": [
    "Buatlah sebuah fungsi perhitungan jarak menggunakan rumus Chebyshev, Euclidean, Manhattan yang memiliki parameter data1 dan data2 dalam bentuk float, dan distance_type dalam bentuk string."
   ]
  },
  {
   "cell_type": "code",
   "execution_count": 182,
   "metadata": {},
   "outputs": [],
   "source": [
    "# Distance Function (chebyshev, euclidean, manhattan)\n",
    "\n",
    "def chebyshev(data1, data2):\n",
    "    return max(np.abs(data1 - data2))\n",
    "def euclidean(data1, data2):\n",
    "    return np.sqrt(np.sum((data1 - data2) ** 2))\n",
    "def manhattan(data1, data2):\n",
    "    return np.sum(np.abs(data1 - data2))\n",
    "\n",
    "\n",
    "def calculate_distance(data1, data2, distance_type):\n",
    "    if distance_type == 'chebyshev':\n",
    "        return chebyshev(data1, data2)\n",
    "    elif distance_type == 'euclidean':\n",
    "        return euclidean(data1, data2)\n",
    "    elif distance_type == 'manhattan':\n",
    "        return manhattan(data1, data2)\n",
    "    else:\n",
    "        return None"
   ]
  },
  {
   "cell_type": "markdown",
   "metadata": {},
   "source": [
    "Simpan label dataset yang dinormalisasi ke dalam variabel yang disebut \"label\"."
   ]
  },
  {
   "cell_type": "code",
   "execution_count": 183,
   "metadata": {},
   "outputs": [
    {
     "data": {
      "text/plain": [
       "1109    6\n",
       "1032    5\n",
       "1002    7\n",
       "487     6\n",
       "979     5\n",
       "       ..\n",
       "831     6\n",
       "1437    5\n",
       "620     5\n",
       "465     5\n",
       "748     6\n",
       "Name: quality, Length: 500, dtype: int64"
      ]
     },
     "execution_count": 183,
     "metadata": {},
     "output_type": "execute_result"
    }
   ],
   "source": [
    "label = normalized_data[normalized_data.columns[-1]]\n",
    "label"
   ]
  },
  {
   "cell_type": "markdown",
   "metadata": {},
   "source": [
    "Bagi dataset yang dinormalisasi menjadi 80% untuk pelatihan dan 20% untuk pengujian."
   ]
  },
  {
   "cell_type": "code",
   "execution_count": 184,
   "metadata": {},
   "outputs": [
    {
     "name": "stdout",
     "output_type": "stream",
     "text": [
      "(400, 11)\n",
      "(100, 11)\n"
     ]
    }
   ],
   "source": [
    "train_data, test_data, train_label, test_label = train_test_split(normalized_data.iloc[:, :-1], label, test_size=0.2, random_state=42)\n",
    "print(train_data.shape)\n",
    "print(test_data.shape)"
   ]
  },
  {
   "cell_type": "markdown",
   "metadata": {},
   "source": [
    "Buatlah sebuah fungsi algoritma KNN untuk melakukan prediksi menggunakan parameter train_data, train_label, test_data, k sebagai bilangan bulat, dan distance_type sebagai string."
   ]
  },
  {
   "cell_type": "code",
   "execution_count": 185,
   "metadata": {},
   "outputs": [],
   "source": [
    "def knn(train_data, train_label, test_data, k, distance_type):\n",
    "    distances = np.array([calculate_distance(train_data.iloc[i], test_data, distance_type) for i in range(len(train_data))])\n",
    "    index_k_minumum = distances.argsort()[:k]\n",
    "    k_labels = train_label.iloc[index_k_minumum].to_numpy()\n",
    "    counter = Counter(k_labels)\n",
    "    prediction = counter.most_common(1)[0][0]\n",
    "    \n",
    "    return prediction\n",
    "\n",
    "def knn_multi(train_data, train_label, test_data, k, distance_type):\n",
    "    predictions = []\n",
    "    for i in range(len(test_data)):\n",
    "        predictions.append(knn(train_data, train_label, test_data.iloc[i], k, distance_type))\n",
    "    return  pd.DataFrame(predictions)"
   ]
  },
  {
   "cell_type": "markdown",
   "metadata": {},
   "source": [
    "Temukan nilai k terbaik dengan mengamati hasil akurasi untuk setiap nilai k yang berbeda dan berbagai metode perhitungan jarak yang berbeda."
   ]
  },
  {
   "cell_type": "code",
   "execution_count": 186,
   "metadata": {},
   "outputs": [
    {
     "data": {
      "image/png": "[encoded data removed]",
      "text/plain": [
       "<Figure size 640x480 with 1 Axes>"
      ]
     },
     "metadata": {},
     "output_type": "display_data"
    }
   ],
   "source": [
    "# Find best k for euclidean KNN\n",
    "\n",
    "k_values = []\n",
    "accuracies = []\n",
    "\n",
    "k_range = range(1, 11) \n",
    "\n",
    "for k in k_range:\n",
    "    predictions = knn_multi(train_data, train_label, test_data, k, 'euclidean')\n",
    "    accuracy = accuracy_score(test_label, predictions)\n",
    "    k_values.append(k)\n",
    "    accuracies.append(accuracy)\n",
    "\n",
    "# Plot the graph\n",
    "plt.plot(k_values, accuracies, marker='o')\n",
    "plt.title('KNN Euclidean Accuracy vs. K Value')\n",
    "plt.xlabel('K Value')\n",
    "plt.ylabel('Accuracy')\n",
    "plt.xticks(k_values)\n",
    "plt.grid(True)\n",
    "plt.show()"
   ]
  },
  {
   "cell_type": "code",
   "execution_count": 187,
   "metadata": {},
   "outputs": [
    {
     "data": {
      "image/png": "[encoded data removed]",
      "text/plain": [
       "<Figure size 640x480 with 1 Axes>"
      ]
     },
     "metadata": {},
     "output_type": "display_data"
    }
   ],
   "source": [
    "# Find best k for Manhattan KNN\n",
    "\n",
    "k_values = []\n",
    "accuracies = []\n",
    "\n",
    "k_range = range(1, 11) \n",
    "\n",
    "for k in k_range:\n",
    "    predictions = knn_multi(train_data, train_label, test_data, k, 'manhattan')\n",
    "    accuracy = accuracy_score(test_label, predictions)\n",
    "    k_values.append(k)\n",
    "    accuracies.append(accuracy)\n",
    "\n",
    "plt.plot(k_values, accuracies, marker='o')\n",
    "plt.title('KNN Manhattan Accuracy vs. K Value')\n",
    "plt.xlabel('K Value')\n",
    "plt.ylabel('Accuracy')\n",
    "plt.xticks(k_values)\n",
    "plt.grid(True)\n",
    "plt.show()"
   ]
  },
  {
   "cell_type": "code",
   "execution_count": 188,
   "metadata": {},
   "outputs": [
    {
     "data": {
      "image/png": "[encoded data removed]",
      "text/plain": [
       "<Figure size 640x480 with 1 Axes>"
      ]
     },
     "metadata": {},
     "output_type": "display_data"
    }
   ],
   "source": [
    "# Find best k for chebyshev KNN\n",
    "\n",
    "k_values = []\n",
    "accuracies = []\n",
    "\n",
    "k_range = range(1, 11) \n",
    "\n",
    "for k in k_range:\n",
    "    predictions = knn_multi(train_data, train_label, test_data, k, 'chebyshev')\n",
    "    accuracy = accuracy_score(test_label, predictions)\n",
    "    k_values.append(k)\n",
    "    accuracies.append(accuracy)\n",
    "\n",
    "plt.plot(k_values, accuracies, marker='o')\n",
    "plt.title('KNN Chebysev Accuracy vs. K Value')\n",
    "plt.xlabel('K Value')\n",
    "plt.ylabel('Accuracy')\n",
    "plt.xticks(k_values)\n",
    "plt.grid(True)\n",
    "plt.show()\n"
   ]
  },
  {
   "cell_type": "markdown",
   "metadata": {},
   "source": [
    "# Evaluasi"
   ]
  },
  {
   "cell_type": "markdown",
   "metadata": {},
   "source": [
    "Cetak hasil akurasi prediksi untuk setiap KNN dengan nilai k terbaik dan rumus perhitungan jarak yang berbeda"
   ]
  },
  {
   "cell_type": "code",
   "execution_count": 192,
   "metadata": {},
   "outputs": [
    {
     "name": "stdout",
     "output_type": "stream",
     "text": [
      "Accuracy: 0.51\n"
     ]
    }
   ],
   "source": [
    "# Predict using euclidean KNN with the best k value\n",
    "predictions = knn_multi(train_data, train_label, test_data, 3, 'euclidean')\n",
    "accuracy = accuracy_score(test_label, predictions)\n",
    "print(\"Accuracy:\", accuracy)"
   ]
  },
  {
   "cell_type": "code",
   "execution_count": 193,
   "metadata": {},
   "outputs": [
    {
     "name": "stdout",
     "output_type": "stream",
     "text": [
      "Accuracy: 0.5\n"
     ]
    }
   ],
   "source": [
    "# Predict using manhattan KNN with the best k value\n",
    "predictions = knn_multi(train_data, train_label, test_data, 5, 'manhattan')\n",
    "accuracy = accuracy_score(test_label, predictions)\n",
    "print(\"Accuracy:\", accuracy)\n"
   ]
  },
  {
   "cell_type": "code",
   "execution_count": 191,
   "metadata": {},
   "outputs": [
    {
     "name": "stdout",
     "output_type": "stream",
     "text": [
      "Accuracy: 0.58\n"
     ]
    }
   ],
   "source": [
    "# Predict using chebyshev KNN with the best k value\n",
    "predictions = knn_multi(train_data, train_label, test_data, 9, 'chebyshev')\n",
    "accuracy = accuracy_score(test_label, predictions)\n",
    "print(\"Accuracy:\", accuracy)\n"
   ]
  },
  {
   "cell_type": "markdown",
   "metadata": {},
   "source": [
    "Note : meskipun pada distance metric euclidean, dan manhattan yang menghasilkan hasil accuracy tertinggi, yaitu nilai K 1 dan 2 namun hal tersebut sebaiknya dihindari karena dapat mengakibatkan overfitting dan menyebabkan model yang dihasilkan kurang baik. Oleh karena itu saya mengganti ke nilai K yang lain namun memiliki accuracy cukup tinggi dan termasuk ke dalam bilangan ganjil. Bilangan ganjil digunakan karena dapat mengurangi ambiguitas apabila menggunakan bilangan genap dan mendapatkan jumlah kelas terdapat sama. Contoh 2 kelas A dan 2 Kelas B"
   ]
  },
  {
   "cell_type": "markdown",
   "metadata": {},
   "source": [
    "# Kesimpulan"
   ]
  },
  {
   "cell_type": "markdown",
   "metadata": {},
   "source": [
    "Soal\n",
    "\n",
    "1. Jelaskan pengaruh k yang rendah ataupun tinggi terhadap akurasi hasil algoritma KNN!\n",
    "2. Jelaskan pengaruh perbedaan rumus perhitungan jarak yang digunakan terhadap hasil akurasi algoritma KNN!\n",
    "3. Jelaskan dan sebutkan berapa jumlah k ideal dan apa rumus perhitungan jarak yang menghasilkan akurasi terbaik pada praktikum ini!"
   ]
  },
  {
   "cell_type": "markdown",
   "metadata": {},
   "source": [
    "Jawaban\n",
    "\n",
    "1. Nilai K pada algoritma KNN merupakan hyperparameter dari algoritma ini, karena nilai K sangat mempengaruhi nilai prediksi yang dihasilkan. Oleh karena itu, diperlukan nilai K yang optimal sehingga model yang dihasilkan juga ikut optimal. Terdapat beberapa kondisi yang menyebabkan suatu model kurang akurat.\n",
    "  - K rendah: ketika nilai k rendah, model cenderung lebih sensitif terhadap noise atau variasi kecil dalam data. Ini dapat menyebabkan model menjadi terlalu kompleks dan cenderung overfitting terhadap data pelatihan. Dalam kasus ini, model mungkin akan mengambil keputusan berdasarkan sedikit tetangga terdekat, yang mungkin tidak merepresentasikan distribusi yang sebenarnya dari kelas yang diberikan\n",
    "  - K tinggi: ketika nilai k tinggi, model menjadi lebih stabil dan cenderung memiliki bias yang lebih rendah. Model akan membuat prediksi berdasarkan mayoritas kelas dari sejumlah besar tetangga terdekat. Ini dapat menyebabkan model menjadi terlalu sederhana dan cenderung underfitting terhadap data pelatihan.\n",
    "\n",
    "2. Algoritma KNN merupakan algoritma yang menggunakan distance metric untuk menghitung jarak antar tentangganya, terdapat beberapa distance metric seperti euclidean, manhattan, minkowski, chebysev. Tentunya terdapat terdapat perbedaan hasil yang akan terjadi karena setiap distance metric memiliki caranya sendiri untuk melakukan perhitungan.\n",
    "  - Euclidean Distance adalah metrik jarak yang paling umum digunakan dalam algoritma KNN. Ini mengukur jarak langsung antara dua titik dalam ruang Euclidean. Perbedaan dalam skala antar fitur dapat mempengaruhi perhitungan jarak, karena fitur dengan rentang nilai yang lebih besar akan memberikan kontribusi lebih besar terhadap perhitungan jarak.\n",
    "  - Manhattan Distance adalah jumlah dari perbedaan absolut antara koordinat dua titik. Rumus ini lebih cocok untuk data yang tidak berdistribusi normal dan ketika perbedaan dalam rentang nilai antar fitur tidak boleh diabaikan. Ini juga lebih tahan terhadap outlier dibandingkan dengan jarak Euclidean.\n",
    "  - Chebyshev Distance merupakan sebuah metrik jarak yang digunakan untuk mengukur jarak antara dua titik dalam ruang dimensi n. Metrik ini didefinisikan sebagai jarak terpanjang antara dua vektor dalam ruang dimensi n. Chebyshev Distance juga dikenal sebagai infinity norm atau maximum norm.\n",
    "Berdasarkan hal tersebut, pemilihan distance metric ini harus disesuaikan dengan persebaran data ataupun distribusi data.\n",
    "3. Pada praktikum ini terdapat 3 distance metric yang digunakan, yaitu euclidean, manhattan, dan chebysev. Pada praktikum ini juga dilakukan pengejuian beberapa nilai K untuk mendapatkan nilai K yang optimal.\n",
    "  - Euclidean Distance : pada algoritma ini saya menggunakan nilai K 3 sebagai nilai K optimal dengana akurasi 0.51. Pada grafik memang menunjukkan K 1 dan 2 memiliki nilai akurasi tertinggi namun apabila menggunakan K tersebut akan mengakibatkan overfitting pada model yang digunakan. Oleh karena itu, saya memilih 3 (ganjil) sebagai nilai K optimal sehingga jumlah K optimal hanya 1.\n",
    "  - Manhttan Distance : pada grafik terlihat bahwa nilai K 1 dan 2 menunjukkan nilai akurasi tertinggi namun sama seperti sebelumnya hal tersebut bisa mengakibatkan overfitting. Oleh karena itu saya memilih nilai K 5 sebagai nilai K yang optimal dengan akurasi 0.5. Namun sebenarnya terdapat nilai K lain yang menghasilkan akurasi 0.5, yaitu 3 dan 4 sehingga terdapat 3 nilai K yang menghasilkan nilai optimal.\n",
    "  - Chebysev Distance : pada grafik ini terlihat bahwa nilai K 9 memiliki akurasi paling tinggi dengan nilai 0.58 sehingga nilai K 9 merupakan nilai K optimal dari algoritma chebysev.\n",
    "\n",
    "Berdasarkan ketiga algoritma ini maka yang menghasilkan akurasi paling tinggi adalah Chebysev Distance dengan nilai K=9 dan akurasinya adalah 0.58"
   ]
  }
 ],
 "metadata": {
  "kernelspec": {
   "display_name": "Python 3",
   "language": "python",
   "name": "python3"
  },
  "language_info": {
   "codemirror_mode": {
    "name": "ipython",
    "version": 3
   },
   "file_extension": ".py",
   "mimetype": "text/x-python",
   "name": "python",
   "nbconvert_exporter": "python",
   "pygments_lexer": "ipython3",
   "version": "3.12.0"
  }
 },
 "nbformat": 4,
 "nbformat_minor": 2
}
